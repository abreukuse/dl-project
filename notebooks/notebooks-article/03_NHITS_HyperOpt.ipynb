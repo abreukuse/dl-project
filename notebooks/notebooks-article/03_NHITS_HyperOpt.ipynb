{
  "nbformat": 4,
  "nbformat_minor": 0,
  "metadata": {
    "colab": {
      "provenance": [],
      "toc_visible": true
    },
    "kernelspec": {
      "name": "python3",
      "display_name": "Python 3"
    },
    "language_info": {
      "name": "python"
    }
  },
  "cells": [
    {
      "cell_type": "code",
      "execution_count": null,
      "metadata": {
        "id": "npObmTx3XCna"
      },
      "outputs": [],
      "source": [
        "!pip install neuralforecast\n",
        "!pip install feature-engine"
      ]
    },
    {
      "cell_type": "code",
      "source": [
        "import os\n",
        "import sys\n",
        "import math\n",
        "import pandas as pd\n",
        "import numpy as np\n",
        "from neuralforecast import NeuralForecast\n",
        "from neuralforecast.auto import AutoNHITS\n",
        "from sklearn.metrics import mean_squared_error, mean_absolute_error\n",
        "from neuralforecast.losses.numpy import mase as mase_numpy\n",
        "from utilsforecast.losses import mase\n",
        "from ray import tune\n",
        "from ray.tune.search.hyperopt import HyperOptSearch\n",
        "from neuralforecast.losses.pytorch import MAE\n",
        "import sklearn\n",
        "import neuralforecast\n",
        "import feature_engine"
      ],
      "metadata": {
        "id": "hWmEps0FZT1C"
      },
      "execution_count": null,
      "outputs": []
    },
    {
      "cell_type": "code",
      "source": [
        "# Versões\n",
        "print('Versões:')\n",
        "print('Python: %s' % sys.version)\n",
        "print('Pandas: %s' % pd.__version__)\n",
        "print('Numpy: %s' % np.__version__)\n",
        "print('Sklearn: %s' % sklearn.__version__)\n",
        "print('NeuralForecast: %s' % neuralforecast.__version__)\n",
        "print('Feature-Engine: %s' % feature_engine.__version__)"
      ],
      "metadata": {
        "id": "Hk4Y8G2vcbDU",
        "colab": {
          "base_uri": "https://localhost:8080/"
        },
        "outputId": "a9c34e14-0388-4e24-ca82-25435086e8d7"
      },
      "execution_count": null,
      "outputs": [
        {
          "output_type": "stream",
          "name": "stdout",
          "text": [
            "Versões:\n",
            "Python: 3.11.13 (main, Jun  4 2025, 08:57:29) [GCC 11.4.0]\n",
            "Pandas: 2.2.2\n",
            "Numpy: 2.0.2\n",
            "Sklearn: 1.6.1\n",
            "NeuralForecast: 3.0.2\n",
            "Feature-Engine: 1.8.3\n"
          ]
        }
      ]
    },
    {
      "cell_type": "code",
      "source": [
        "ROOT = \"/content/drive/MyDrive/dl-project\"\n",
        "\n",
        "FEATURES = [\n",
        "    'pressure_1',\n",
        "    'pressure_2',\n",
        "    'pressure_3',\n",
        "    'pressure_4',\n",
        "    'pressure_5',\n",
        "    'pressure_6',\n",
        "    'pressure_7'\n",
        "]\n",
        "SEED = 78\n",
        "\n",
        "horizon = 187\n",
        "input_size = 187"
      ],
      "metadata": {
        "id": "rw3Ii1CjZrMU"
      },
      "execution_count": null,
      "outputs": []
    },
    {
      "cell_type": "code",
      "source": [
        "train = pd.read_csv(f\"{ROOT}/data/train_data_scaled.csv\")\n",
        "test = pd.read_csv(f\"{ROOT}/data/test_data_scaled.csv\")"
      ],
      "metadata": {
        "id": "PHyIkQdEaH8i"
      },
      "execution_count": null,
      "outputs": []
    },
    {
      "cell_type": "code",
      "source": [
        "# Requrimento do nixtla\n",
        "train['unique_id'] = 'slug_flow'\n",
        "train['ds'] = train['time']\n",
        "train['y'] = train['liquid_flow_rate']\n",
        "\n",
        "\n",
        "test['unique_id'] = 'slug_flow'\n",
        "test['ds'] = test['time']\n",
        "test['y'] = test['liquid_flow_rate']"
      ],
      "metadata": {
        "id": "rtJ67wFqaLhN"
      },
      "execution_count": null,
      "outputs": []
    },
    {
      "cell_type": "code",
      "source": [
        "nhits_config = AutoNHITS.get_default_config(h = horizon, backend=\"ray\")\n",
        "nhits_config.update(\n",
        "    {\n",
        "        'input_size': input_size,\n",
        "        'exclude_insample_y': True,\n",
        "        'hist_exog_list': FEATURES,\n",
        "        'early_stop_patience_steps': 10,\n",
        "        'val_check_steps': 100,\n",
        "        'random_seed': SEED\n",
        "    }\n",
        ")\n",
        "nhits_config"
      ],
      "metadata": {
        "colab": {
          "base_uri": "https://localhost:8080/"
        },
        "id": "kC5dvEz95BtH",
        "outputId": "8339038d-c32e-454c-983b-4473050581fb"
      },
      "execution_count": null,
      "outputs": [
        {
          "output_type": "execute_result",
          "data": {
            "text/plain": [
              "{'h': None,\n",
              " 'n_pool_kernel_size': <ray.tune.search.sample.Categorical at 0x7f7bd0508ed0>,\n",
              " 'n_freq_downsample': <ray.tune.search.sample.Categorical at 0x7f7bd0509150>,\n",
              " 'learning_rate': <ray.tune.search.sample.Float at 0x7f7bd0509210>,\n",
              " 'scaler_type': <ray.tune.search.sample.Categorical at 0x7f7bd0509310>,\n",
              " 'max_steps': <ray.tune.search.sample.Float at 0x7f7bd0509090>,\n",
              " 'batch_size': <ray.tune.search.sample.Categorical at 0x7f7bd0509510>,\n",
              " 'windows_batch_size': <ray.tune.search.sample.Categorical at 0x7f7bd0509610>,\n",
              " 'loss': None,\n",
              " 'random_seed': 78,\n",
              " 'input_size': <ray.tune.search.sample.Categorical at 0x7f7bd0573f90>,\n",
              " 'step_size': <ray.tune.search.sample.Categorical at 0x7f7bd258fa10>,\n",
              " 'exclude_insample_y': True,\n",
              " 'hist_exog_list': ['pressure_1',\n",
              "  'pressure_2',\n",
              "  'pressure_3',\n",
              "  'pressure_4',\n",
              "  'pressure_5',\n",
              "  'pressure_6',\n",
              "  'pressure_7'],\n",
              " 'early_stop_patience_steps': 10,\n",
              " 'val_check_steps': 100}"
            ]
          },
          "metadata": {},
          "execution_count": 6
        }
      ]
    },
    {
      "cell_type": "markdown",
      "source": [
        "### Training"
      ],
      "metadata": {
        "id": "wX4rf3LNa4mG"
      }
    },
    {
      "cell_type": "code",
      "source": [
        "models = [\n",
        "    AutoNHITS(\n",
        "        h=horizon,\n",
        "        loss=MAE(),\n",
        "        config=nhits_config,\n",
        "        search_alg=HyperOptSearch(),\n",
        "        backend='ray',\n",
        "        num_samples=30\n",
        "    )\n",
        "]"
      ],
      "metadata": {
        "id": "WjRIPCRgaQWy"
      },
      "execution_count": null,
      "outputs": []
    },
    {
      "cell_type": "code",
      "source": [
        "nf = NeuralForecast(\n",
        "    models=models,\n",
        "    freq=1\n",
        ")\n",
        "nf.fit(\n",
        "    df=train, val_size=horizon\n",
        ")"
      ],
      "metadata": {
        "id": "StldPXZvcR9K"
      },
      "execution_count": null,
      "outputs": []
    },
    {
      "cell_type": "code",
      "source": [
        "# Junta os últimos 'input_size' pontos do treino com os dados de teste\n",
        "predictions_input_df = pd.concat([train.tail(input_size), test])"
      ],
      "metadata": {
        "id": "TqcMG75sna1p"
      },
      "execution_count": null,
      "outputs": []
    },
    {
      "cell_type": "code",
      "source": [
        "# Cria janelas deslizantes do DataFrame para fazer predições\n",
        "inputs_for_predicions_list = [\n",
        "    predictions_input_df.iloc[i:i + input_size]\n",
        "    for i in range(0, len(predictions_input_df) - input_size + 1, horizon)\n",
        "]"
      ],
      "metadata": {
        "id": "A7SAD1mE0fFJ"
      },
      "execution_count": null,
      "outputs": []
    },
    {
      "cell_type": "code",
      "source": [
        "forecasts_list = []\n",
        "for input_df in inputs_for_predicions_list:\n",
        "    forecast = nf.predict(df=input_df)\n",
        "    forecasts_list.append(forecast)"
      ],
      "metadata": {
        "id": "FrKMTQYA0hrE"
      },
      "execution_count": null,
      "outputs": []
    },
    {
      "cell_type": "code",
      "source": [
        "forecasts_output = pd.concat(forecasts_list)\n",
        "forecasts_output"
      ],
      "metadata": {
        "id": "we9e10kN3nk_"
      },
      "execution_count": null,
      "outputs": []
    },
    {
      "cell_type": "code",
      "source": [
        "ground_truth = test[['unique_id', 'ds', 'y']]\n",
        "ground_truth"
      ],
      "metadata": {
        "id": "zRcnIwFS3wx_"
      },
      "execution_count": null,
      "outputs": []
    },
    {
      "cell_type": "code",
      "source": [
        "exogenous_results = pd.merge(\n",
        "    ground_truth,\n",
        "    forecasts_output,\n",
        "    on=['unique_id', 'ds'],\n",
        "    how='left'\n",
        ")\n",
        "\n",
        "exogenous_results"
      ],
      "metadata": {
        "id": "qPz1nr0Y30m_"
      },
      "execution_count": null,
      "outputs": []
    },
    {
      "cell_type": "code",
      "source": [
        "file_name = \"nhits_bayesopt\"\n",
        "version = \"v1\"\n",
        "exogenous_results.to_csv(f\"{ROOT}/results/{file_name}_{version}.csv\", index=False, mode='x')"
      ],
      "metadata": {
        "id": "0qDOnrJR4BGF"
      },
      "execution_count": null,
      "outputs": []
    },
    {
      "cell_type": "code",
      "source": [
        "##########################################\n",
        "# Espaço de busca da otimização bayesiana\n",
        "##########################################\n",
        "\n",
        "from ray.tune.search.sample import Categorical, Float, Integer, Domain\n",
        "\n",
        "# Get the config dictionary with the Ray Tune sampler objects\n",
        "config = AutoNHITS.get_default_config(h=horizon, backend='ray')\n",
        "\n",
        "print(\"Inspecting the AutoNHITS Default Search Space Programmatically:\\n\")\n",
        "\n",
        "def describe_sampler(sampler):\n",
        "    \"\"\"Helper function to describe different sampler types\"\"\"\n",
        "    if isinstance(sampler, Categorical):\n",
        "        return f\"Categorical Choice\\n  -> Values: {sampler.categories}\"\n",
        "    elif isinstance(sampler, Float):\n",
        "        # For Float samplers, check if it's loguniform by looking at the base\n",
        "        if getattr(sampler, 'base', None) == 10:  # LogUniform has base=10\n",
        "            return f\"Log-Uniform Float\\n  -> Range: [{sampler.lower}, {sampler.upper}]\"\n",
        "        else:\n",
        "            return f\"Uniform Float\\n  -> Range: [{sampler.lower}, {sampler.upper}]\"\n",
        "    elif isinstance(sampler, Integer):\n",
        "        return f\"Uniform Integer\\n  -> Range: [{sampler.lower}, {sampler.upper}]\"\n",
        "    elif isinstance(sampler, Domain):\n",
        "        return f\"Domain Sampler\\n  -> Type: {type(sampler).__name__}\"\n",
        "    else:\n",
        "        return f\"Fixed Value\\n  -> Value: {sampler}\"\n",
        "\n",
        "# Iterate through the hyperparameters and their sampler objects\n",
        "for param, sampler in config.items():\n",
        "    print(f\"Hyperparameter: '{param}'\")\n",
        "    print(f\"  -> Type: {describe_sampler(sampler)}\\n\")"
      ],
      "metadata": {
        "id": "I-TqW2xJ6Ml3",
        "colab": {
          "base_uri": "https://localhost:8080/"
        },
        "outputId": "1830c623-056f-4d16-d8c9-4f4ea6626970"
      },
      "execution_count": null,
      "outputs": [
        {
          "output_type": "stream",
          "name": "stdout",
          "text": [
            "Inspecting the AutoNHITS Default Search Space Programmatically:\n",
            "\n",
            "Hyperparameter: 'h'\n",
            "  -> Type: Fixed Value\n",
            "  -> Value: None\n",
            "\n",
            "Hyperparameter: 'n_pool_kernel_size'\n",
            "  -> Type: Categorical Choice\n",
            "  -> Values: [[2, 2, 1], [1, 1, 1], [2, 2, 2], [4, 4, 4], [8, 4, 1], [16, 8, 1]]\n",
            "\n",
            "Hyperparameter: 'n_freq_downsample'\n",
            "  -> Type: Categorical Choice\n",
            "  -> Values: [[168, 24, 1], [24, 12, 1], [180, 60, 1], [60, 8, 1], [40, 20, 1], [1, 1, 1]]\n",
            "\n",
            "Hyperparameter: 'learning_rate'\n",
            "  -> Type: Uniform Float\n",
            "  -> Range: [0.0001, 0.1]\n",
            "\n",
            "Hyperparameter: 'scaler_type'\n",
            "  -> Type: Categorical Choice\n",
            "  -> Values: [None, 'robust', 'standard']\n",
            "\n",
            "Hyperparameter: 'max_steps'\n",
            "  -> Type: Uniform Float\n",
            "  -> Range: [500, 1500]\n",
            "\n",
            "Hyperparameter: 'batch_size'\n",
            "  -> Type: Categorical Choice\n",
            "  -> Values: [32, 64, 128, 256]\n",
            "\n",
            "Hyperparameter: 'windows_batch_size'\n",
            "  -> Type: Categorical Choice\n",
            "  -> Values: [128, 256, 512, 1024]\n",
            "\n",
            "Hyperparameter: 'loss'\n",
            "  -> Type: Fixed Value\n",
            "  -> Value: None\n",
            "\n",
            "Hyperparameter: 'random_seed'\n",
            "  -> Type: Uniform Integer\n",
            "  -> Range: [1, 20]\n",
            "\n",
            "Hyperparameter: 'input_size'\n",
            "  -> Type: Categorical Choice\n",
            "  -> Values: [187, 374, 561, 748, 935]\n",
            "\n",
            "Hyperparameter: 'step_size'\n",
            "  -> Type: Categorical Choice\n",
            "  -> Values: [1, 187]\n",
            "\n"
          ]
        }
      ]
    },
    {
      "cell_type": "code",
      "source": [
        "####################################################\n",
        "# Salvar os parametros de cada etapa da otimizaçao.\n",
        "####################################################\n",
        "\n",
        "pd.set_option('display.max_columns', None)\n",
        "bayesopt_logs = nf.models[0].results.get_dataframe()\n",
        "bayesopt_logs.to_csv(f\"{ROOT}/results/nhits_bayesopt_logs-{version}.csv\", index=False, mode='x')\n",
        "\n",
        "# bayesopt_logs"
      ],
      "metadata": {
        "id": "UdT-96jHJPeq"
      },
      "execution_count": null,
      "outputs": []
    },
    {
      "cell_type": "code",
      "source": [
        "bayesopt_logs = pd.read_csv(f\"{ROOT}/results/nhits_bayesopt_logs-{version}.csv\")"
      ],
      "metadata": {
        "id": "8Yj7JQpuX4vK"
      },
      "execution_count": null,
      "outputs": []
    },
    {
      "cell_type": "code",
      "source": [
        "########################################\n",
        "# Pegar os hiper-parâmetros selecionados\n",
        "########################################\n",
        "\n",
        "(\n",
        "    bayesopt_logs\n",
        "    .loc[\n",
        "        bayesopt_logs['loss'] == bayesopt_logs['loss'].min(), [column for column in bayesopt_logs.columns if column.startswith(\"config/\")]\n",
        "    ]\n",
        "    .rename(columns={column: column.replace('config/', '') for column in bayesopt_logs.columns})\n",
        "    .to_dict(orient='records')\n",
        ")"
      ],
      "metadata": {
        "id": "LLFAeWbiLcuO",
        "colab": {
          "base_uri": "https://localhost:8080/"
        },
        "outputId": "23e03d12-6cdb-4ac5-e719-1562cef17f68"
      },
      "execution_count": null,
      "outputs": [
        {
          "output_type": "execute_result",
          "data": {
            "text/plain": [
              "[{'h': 187,\n",
              "  'n_pool_kernel_size': '(16, 8, 1)',\n",
              "  'n_freq_downsample': '(1, 1, 1)',\n",
              "  'learning_rate': 0.0022705464489066,\n",
              "  'scaler_type': 'standard',\n",
              "  'max_steps': 1300.0,\n",
              "  'batch_size': 64,\n",
              "  'windows_batch_size': 512,\n",
              "  'loss': 'MAE()',\n",
              "  'random_seed': 78,\n",
              "  'input_size': 187,\n",
              "  'step_size': 1,\n",
              "  'exclude_insample_y': True,\n",
              "  'hist_exog_list': \"('pressure_1', 'pressure_2', 'pressure_3', 'pressure_4', 'pressure_5', 'pressure_6', 'pressure_7')\",\n",
              "  'early_stop_patience_steps': 10,\n",
              "  'val_check_steps': 100,\n",
              "  'valid_loss': 'MAE()'}]"
            ]
          },
          "metadata": {},
          "execution_count": 7
        }
      ]
    },
    {
      "cell_type": "code",
      "source": [
        "# Salvar modelo\n",
        "model_dir = f\"{ROOT}/models/BayesOptNHITS_{version}/\"\n",
        "os.makedirs(model_dir, exist_ok=True)\n",
        "nf.save(path=model_dir)"
      ],
      "metadata": {
        "id": "6XbEWzZOOARM"
      },
      "execution_count": null,
      "outputs": []
    },
    {
      "cell_type": "markdown",
      "source": [
        "### Performance"
      ],
      "metadata": {
        "id": "u0AkvCO6ZXRg"
      }
    },
    {
      "cell_type": "code",
      "source": [
        "import joblib\n",
        "import pandas as pd"
      ],
      "metadata": {
        "id": "tpi_Kd8ubcjv"
      },
      "execution_count": null,
      "outputs": []
    },
    {
      "cell_type": "code",
      "source": [
        "ROOT = \"/content/drive/MyDrive/dl-project\"\n",
        "file_name = \"nhits_bayesopt\"\n",
        "version = \"v1\"\n",
        "exogenous_results = pd.read_csv(f\"{ROOT}/results/{file_name}_{version}.csv\")"
      ],
      "metadata": {
        "id": "LM09SFsiXTGx"
      },
      "execution_count": null,
      "outputs": []
    },
    {
      "cell_type": "code",
      "source": [
        "exogenous_results[['y', 'AutoNHITS']].plot(figsize=(15, 5));"
      ],
      "metadata": {
        "id": "1dC_BorG4Xyw",
        "colab": {
          "base_uri": "https://localhost:8080/",
          "height": 445
        },
        "outputId": "8779e088-2ada-4ca0-cefd-9375caad754d"
      },
      "execution_count": null,
      "outputs": [
        {
          "output_type": "display_data",
          "data": {
            "text/plain": [
              "<Figure size 1500x500 with 1 Axes>"
            ],
            "image/png": "[encoded data removed]"
          },
          "metadata": {}
        }
      ]
    },
    {
      "cell_type": "code",
      "source": [
        "scaler = joblib.load(f\"{ROOT}/data/scaler.joblib\")"
      ],
      "metadata": {
        "id": "7e6NpCaRbX-Q"
      },
      "execution_count": null,
      "outputs": []
    },
    {
      "cell_type": "code",
      "source": [
        "############\n",
        "# Métricas\n",
        "############"
      ],
      "metadata": {
        "id": "aNGWxxkjRJYt"
      },
      "execution_count": null,
      "outputs": []
    },
    {
      "cell_type": "code",
      "source": [
        "##################################\n",
        "# Retornar para a escala original\n",
        "##################################\n",
        "\n",
        "n_rows = len(exogenous_results)\n",
        "dummy_df = pd.DataFrame(\n",
        "    data={\n",
        "        'pressure_1': [0]*n_rows,\n",
        "        'pressure_2': [0]*n_rows,\n",
        "        'pressure_3': [0]*n_rows,\n",
        "        'pressure_4': [0]*n_rows,\n",
        "        'pressure_5': [0]*n_rows,\n",
        "        'pressure_6': [0]*n_rows,\n",
        "        'pressure_7': [0]*n_rows,\n",
        "        'gas_flow_rate': [0]*n_rows,\n",
        "        'liquid_flow_rate': [0]*n_rows\n",
        "    }\n",
        ")\n",
        "\n",
        "model_outputs_columns = [\n",
        "    'y', # y_true\n",
        "    'AutoNHITS'\n",
        "]\n",
        "\n",
        "\n",
        "original_scale_predictons = {}\n",
        "for column in model_outputs_columns:\n",
        "    dummy_df['liquid_flow_rate'] = exogenous_results[column]\n",
        "    reverse_df = scaler.inverse_transform(dummy_df)\n",
        "    original_scale_predictons[column] = reverse_df['liquid_flow_rate']\n",
        "\n",
        "\n",
        "original_scale_df = pd.concat(\n",
        "    [\n",
        "        exogenous_results[['unique_id', 'ds']],\n",
        "        pd.DataFrame(original_scale_predictons)\n",
        "    ],\n",
        "    axis=1\n",
        ")\n",
        "\n",
        "original_scale_df"
      ],
      "metadata": {
        "colab": {
          "base_uri": "https://localhost:8080/",
          "height": 424
        },
        "id": "uK2SjqwYdDWZ",
        "outputId": "2ca0ad30-73c0-4b15-f571-d68e8d89f98a"
      },
      "execution_count": null,
      "outputs": [
        {
          "output_type": "execute_result",
          "data": {
            "text/plain": [
              "      unique_id    ds           y   AutoNHITS\n",
              "0     slug_flow  1501   91.592333   92.994329\n",
              "1     slug_flow  1502   96.149750   97.616388\n",
              "2     slug_flow  1503  101.114667  101.869979\n",
              "3     slug_flow  1504  105.843333  106.228489\n",
              "4     slug_flow  1505  111.156667  111.918246\n",
              "...         ...   ...         ...         ...\n",
              "1495  slug_flow  2996   22.713000   22.752119\n",
              "1496  slug_flow  2997   22.696038   22.445265\n",
              "1497  slug_flow  2998   22.470111   22.468313\n",
              "1498  slug_flow  2999   22.205667   22.299579\n",
              "1499  slug_flow  3000   22.160000   21.963461\n",
              "\n",
              "[1500 rows x 4 columns]"
            ],
            "text/html": [
              "\n",
              "  <div id=\"df-73d0be85-b165-40a6-92de-7f06bc97b2fb\" class=\"colab-df-container\">\n",
              "    <div>\n",
              "<style scoped>\n",
              "    .dataframe tbody tr th:only-of-type {\n",
              "        vertical-align: middle;\n",
              "    }\n",
              "\n",
              "    .dataframe tbody tr th {\n",
              "        vertical-align: top;\n",
              "    }\n",
              "\n",
              "    .dataframe thead th {\n",
              "        text-align: right;\n",
              "    }\n",
              "</style>\n",
              "<table border=\"1\" class=\"dataframe\">\n",
              "  <thead>\n",
              "    <tr style=\"text-align: right;\">\n",
              "      <th></th>\n",
              "      <th>unique_id</th>\n",
              "      <th>ds</th>\n",
              "      <th>y</th>\n",
              "      <th>AutoNHITS</th>\n",
              "    </tr>\n",
              "  </thead>\n",
              "  <tbody>\n",
              "    <tr>\n",
              "      <th>0</th>\n",
              "      <td>slug_flow</td>\n",
              "      <td>1501</td>\n",
              "      <td>91.592333</td>\n",
              "      <td>92.994329</td>\n",
              "    </tr>\n",
              "    <tr>\n",
              "      <th>1</th>\n",
              "      <td>slug_flow</td>\n",
              "      <td>1502</td>\n",
              "      <td>96.149750</td>\n",
              "      <td>97.616388</td>\n",
              "    </tr>\n",
              "    <tr>\n",
              "      <th>2</th>\n",
              "      <td>slug_flow</td>\n",
              "      <td>1503</td>\n",
              "      <td>101.114667</td>\n",
              "      <td>101.869979</td>\n",
              "    </tr>\n",
              "    <tr>\n",
              "      <th>3</th>\n",
              "      <td>slug_flow</td>\n",
              "      <td>1504</td>\n",
              "      <td>105.843333</td>\n",
              "      <td>106.228489</td>\n",
              "    </tr>\n",
              "    <tr>\n",
              "      <th>4</th>\n",
              "      <td>slug_flow</td>\n",
              "      <td>1505</td>\n",
              "      <td>111.156667</td>\n",
              "      <td>111.918246</td>\n",
              "    </tr>\n",
              "    <tr>\n",
              "      <th>...</th>\n",
              "      <td>...</td>\n",
              "      <td>...</td>\n",
              "      <td>...</td>\n",
              "      <td>...</td>\n",
              "    </tr>\n",
              "    <tr>\n",
              "      <th>1495</th>\n",
              "      <td>slug_flow</td>\n",
              "      <td>2996</td>\n",
              "      <td>22.713000</td>\n",
              "      <td>22.752119</td>\n",
              "    </tr>\n",
              "    <tr>\n",
              "      <th>1496</th>\n",
              "      <td>slug_flow</td>\n",
              "      <td>2997</td>\n",
              "      <td>22.696038</td>\n",
              "      <td>22.445265</td>\n",
              "    </tr>\n",
              "    <tr>\n",
              "      <th>1497</th>\n",
              "      <td>slug_flow</td>\n",
              "      <td>2998</td>\n",
              "      <td>22.470111</td>\n",
              "      <td>22.468313</td>\n",
              "    </tr>\n",
              "    <tr>\n",
              "      <th>1498</th>\n",
              "      <td>slug_flow</td>\n",
              "      <td>2999</td>\n",
              "      <td>22.205667</td>\n",
              "      <td>22.299579</td>\n",
              "    </tr>\n",
              "    <tr>\n",
              "      <th>1499</th>\n",
              "      <td>slug_flow</td>\n",
              "      <td>3000</td>\n",
              "      <td>22.160000</td>\n",
              "      <td>21.963461</td>\n",
              "    </tr>\n",
              "  </tbody>\n",
              "</table>\n",
              "<p>1500 rows × 4 columns</p>\n",
              "</div>\n",
              "    <div class=\"colab-df-buttons\">\n",
              "\n",
              "  <div class=\"colab-df-container\">\n",
              "    <button class=\"colab-df-convert\" onclick=\"convertToInteractive('df-73d0be85-b165-40a6-92de-7f06bc97b2fb')\"\n",
              "            title=\"Convert this dataframe to an interactive table.\"\n",
              "            style=\"display:none;\">\n",
              "\n",
              "  <svg xmlns=\"http://www.w3.org/2000/svg\" height=\"24px\" viewBox=\"0 -960 960 960\">\n",
              "    <path d=\"M120-120v-720h720v720H120Zm60-500h600v-160H180v160Zm220 220h160v-160H400v160Zm0 220h160v-160H400v160ZM180-400h160v-160H180v160Zm440 0h160v-160H620v160ZM180-180h160v-160H180v160Zm440 0h160v-160H620v160Z\"/>\n",
              "  </svg>\n",
              "    </button>\n",
              "\n",
              "  <style>\n",
              "    .colab-df-container {\n",
              "      display:flex;\n",
              "      gap: 12px;\n",
              "    }\n",
              "\n",
              "    .colab-df-convert {\n",
              "      background-color: #E8F0FE;\n",
              "      border: none;\n",
              "      border-radius: 50%;\n",
              "      cursor: pointer;\n",
              "      display: none;\n",
              "      fill: #1967D2;\n",
              "      height: 32px;\n",
              "      padding: 0 0 0 0;\n",
              "      width: 32px;\n",
              "    }\n",
              "\n",
              "    .colab-df-convert:hover {\n",
              "      background-color: #E2EBFA;\n",
              "      box-shadow: 0px 1px 2px rgba(60, 64, 67, 0.3), 0px 1px 3px 1px rgba(60, 64, 67, 0.15);\n",
              "      fill: #174EA6;\n",
              "    }\n",
              "\n",
              "    .colab-df-buttons div {\n",
              "      margin-bottom: 4px;\n",
              "    }\n",
              "\n",
              "    [theme=dark] .colab-df-convert {\n",
              "      background-color: #3B4455;\n",
              "      fill: #D2E3FC;\n",
              "    }\n",
              "\n",
              "    [theme=dark] .colab-df-convert:hover {\n",
              "      background-color: #434B5C;\n",
              "      box-shadow: 0px 1px 3px 1px rgba(0, 0, 0, 0.15);\n",
              "      filter: drop-shadow(0px 1px 2px rgba(0, 0, 0, 0.3));\n",
              "      fill: #FFFFFF;\n",
              "    }\n",
              "  </style>\n",
              "\n",
              "    <script>\n",
              "      const buttonEl =\n",
              "        document.querySelector('#df-73d0be85-b165-40a6-92de-7f06bc97b2fb button.colab-df-convert');\n",
              "      buttonEl.style.display =\n",
              "        google.colab.kernel.accessAllowed ? 'block' : 'none';\n",
              "\n",
              "      async function convertToInteractive(key) {\n",
              "        const element = document.querySelector('#df-73d0be85-b165-40a6-92de-7f06bc97b2fb');\n",
              "        const dataTable =\n",
              "          await google.colab.kernel.invokeFunction('convertToInteractive',\n",
              "                                                    [key], {});\n",
              "        if (!dataTable) return;\n",
              "\n",
              "        const docLinkHtml = 'Like what you see? Visit the ' +\n",
              "          '<a target=\"_blank\" href=https://colab.research.google.com/notebooks/data_table.ipynb>data table notebook</a>'\n",
              "          + ' to learn more about interactive tables.';\n",
              "        element.innerHTML = '';\n",
              "        dataTable['output_type'] = 'display_data';\n",
              "        await google.colab.output.renderOutput(dataTable, element);\n",
              "        const docLink = document.createElement('div');\n",
              "        docLink.innerHTML = docLinkHtml;\n",
              "        element.appendChild(docLink);\n",
              "      }\n",
              "    </script>\n",
              "  </div>\n",
              "\n",
              "\n",
              "    <div id=\"df-e164498b-a8f6-4325-bab7-3377565df9a9\">\n",
              "      <button class=\"colab-df-quickchart\" onclick=\"quickchart('df-e164498b-a8f6-4325-bab7-3377565df9a9')\"\n",
              "                title=\"Suggest charts\"\n",
              "                style=\"display:none;\">\n",
              "\n",
              "<svg xmlns=\"http://www.w3.org/2000/svg\" height=\"24px\"viewBox=\"0 0 24 24\"\n",
              "     width=\"24px\">\n",
              "    <g>\n",
              "        <path d=\"M19 3H5c-1.1 0-2 .9-2 2v14c0 1.1.9 2 2 2h14c1.1 0 2-.9 2-2V5c0-1.1-.9-2-2-2zM9 17H7v-7h2v7zm4 0h-2V7h2v10zm4 0h-2v-4h2v4z\"/>\n",
              "    </g>\n",
              "</svg>\n",
              "      </button>\n",
              "\n",
              "<style>\n",
              "  .colab-df-quickchart {\n",
              "      --bg-color: #E8F0FE;\n",
              "      --fill-color: #1967D2;\n",
              "      --hover-bg-color: #E2EBFA;\n",
              "      --hover-fill-color: #174EA6;\n",
              "      --disabled-fill-color: #AAA;\n",
              "      --disabled-bg-color: #DDD;\n",
              "  }\n",
              "\n",
              "  [theme=dark] .colab-df-quickchart {\n",
              "      --bg-color: #3B4455;\n",
              "      --fill-color: #D2E3FC;\n",
              "      --hover-bg-color: #434B5C;\n",
              "      --hover-fill-color: #FFFFFF;\n",
              "      --disabled-bg-color: #3B4455;\n",
              "      --disabled-fill-color: #666;\n",
              "  }\n",
              "\n",
              "  .colab-df-quickchart {\n",
              "    background-color: var(--bg-color);\n",
              "    border: none;\n",
              "    border-radius: 50%;\n",
              "    cursor: pointer;\n",
              "    display: none;\n",
              "    fill: var(--fill-color);\n",
              "    height: 32px;\n",
              "    padding: 0;\n",
              "    width: 32px;\n",
              "  }\n",
              "\n",
              "  .colab-df-quickchart:hover {\n",
              "    background-color: var(--hover-bg-color);\n",
              "    box-shadow: 0 1px 2px rgba(60, 64, 67, 0.3), 0 1px 3px 1px rgba(60, 64, 67, 0.15);\n",
              "    fill: var(--button-hover-fill-color);\n",
              "  }\n",
              "\n",
              "  .colab-df-quickchart-complete:disabled,\n",
              "  .colab-df-quickchart-complete:disabled:hover {\n",
              "    background-color: var(--disabled-bg-color);\n",
              "    fill: var(--disabled-fill-color);\n",
              "    box-shadow: none;\n",
              "  }\n",
              "\n",
              "  .colab-df-spinner {\n",
              "    border: 2px solid var(--fill-color);\n",
              "    border-color: transparent;\n",
              "    border-bottom-color: var(--fill-color);\n",
              "    animation:\n",
              "      spin 1s steps(1) infinite;\n",
              "  }\n",
              "\n",
              "  @keyframes spin {\n",
              "    0% {\n",
              "      border-color: transparent;\n",
              "      border-bottom-color: var(--fill-color);\n",
              "      border-left-color: var(--fill-color);\n",
              "    }\n",
              "    20% {\n",
              "      border-color: transparent;\n",
              "      border-left-color: var(--fill-color);\n",
              "      border-top-color: var(--fill-color);\n",
              "    }\n",
              "    30% {\n",
              "      border-color: transparent;\n",
              "      border-left-color: var(--fill-color);\n",
              "      border-top-color: var(--fill-color);\n",
              "      border-right-color: var(--fill-color);\n",
              "    }\n",
              "    40% {\n",
              "      border-color: transparent;\n",
              "      border-right-color: var(--fill-color);\n",
              "      border-top-color: var(--fill-color);\n",
              "    }\n",
              "    60% {\n",
              "      border-color: transparent;\n",
              "      border-right-color: var(--fill-color);\n",
              "    }\n",
              "    80% {\n",
              "      border-color: transparent;\n",
              "      border-right-color: var(--fill-color);\n",
              "      border-bottom-color: var(--fill-color);\n",
              "    }\n",
              "    90% {\n",
              "      border-color: transparent;\n",
              "      border-bottom-color: var(--fill-color);\n",
              "    }\n",
              "  }\n",
              "</style>\n",
              "\n",
              "      <script>\n",
              "        async function quickchart(key) {\n",
              "          const quickchartButtonEl =\n",
              "            document.querySelector('#' + key + ' button');\n",
              "          quickchartButtonEl.disabled = true;  // To prevent multiple clicks.\n",
              "          quickchartButtonEl.classList.add('colab-df-spinner');\n",
              "          try {\n",
              "            const charts = await google.colab.kernel.invokeFunction(\n",
              "                'suggestCharts', [key], {});\n",
              "          } catch (error) {\n",
              "            console.error('Error during call to suggestCharts:', error);\n",
              "          }\n",
              "          quickchartButtonEl.classList.remove('colab-df-spinner');\n",
              "          quickchartButtonEl.classList.add('colab-df-quickchart-complete');\n",
              "        }\n",
              "        (() => {\n",
              "          let quickchartButtonEl =\n",
              "            document.querySelector('#df-e164498b-a8f6-4325-bab7-3377565df9a9 button');\n",
              "          quickchartButtonEl.style.display =\n",
              "            google.colab.kernel.accessAllowed ? 'block' : 'none';\n",
              "        })();\n",
              "      </script>\n",
              "    </div>\n",
              "\n",
              "  <div id=\"id_e92f5d59-0843-4b9c-9a1b-4b000d06e545\">\n",
              "    <style>\n",
              "      .colab-df-generate {\n",
              "        background-color: #E8F0FE;\n",
              "        border: none;\n",
              "        border-radius: 50%;\n",
              "        cursor: pointer;\n",
              "        display: none;\n",
              "        fill: #1967D2;\n",
              "        height: 32px;\n",
              "        padding: 0 0 0 0;\n",
              "        width: 32px;\n",
              "      }\n",
              "\n",
              "      .colab-df-generate:hover {\n",
              "        background-color: #E2EBFA;\n",
              "        box-shadow: 0px 1px 2px rgba(60, 64, 67, 0.3), 0px 1px 3px 1px rgba(60, 64, 67, 0.15);\n",
              "        fill: #174EA6;\n",
              "      }\n",
              "\n",
              "      [theme=dark] .colab-df-generate {\n",
              "        background-color: #3B4455;\n",
              "        fill: #D2E3FC;\n",
              "      }\n",
              "\n",
              "      [theme=dark] .colab-df-generate:hover {\n",
              "        background-color: #434B5C;\n",
              "        box-shadow: 0px 1px 3px 1px rgba(0, 0, 0, 0.15);\n",
              "        filter: drop-shadow(0px 1px 2px rgba(0, 0, 0, 0.3));\n",
              "        fill: #FFFFFF;\n",
              "      }\n",
              "    </style>\n",
              "    <button class=\"colab-df-generate\" onclick=\"generateWithVariable('original_scale_df')\"\n",
              "            title=\"Generate code using this dataframe.\"\n",
              "            style=\"display:none;\">\n",
              "\n",
              "  <svg xmlns=\"http://www.w3.org/2000/svg\" height=\"24px\"viewBox=\"0 0 24 24\"\n",
              "       width=\"24px\">\n",
              "    <path d=\"M7,19H8.4L18.45,9,17,7.55,7,17.6ZM5,21V16.75L18.45,3.32a2,2,0,0,1,2.83,0l1.4,1.43a1.91,1.91,0,0,1,.58,1.4,1.91,1.91,0,0,1-.58,1.4L9.25,21ZM18.45,9,17,7.55Zm-12,3A5.31,5.31,0,0,0,4.9,8.1,5.31,5.31,0,0,0,1,6.5,5.31,5.31,0,0,0,4.9,4.9,5.31,5.31,0,0,0,6.5,1,5.31,5.31,0,0,0,8.1,4.9,5.31,5.31,0,0,0,12,6.5,5.46,5.46,0,0,0,6.5,12Z\"/>\n",
              "  </svg>\n",
              "    </button>\n",
              "    <script>\n",
              "      (() => {\n",
              "      const buttonEl =\n",
              "        document.querySelector('#id_e92f5d59-0843-4b9c-9a1b-4b000d06e545 button.colab-df-generate');\n",
              "      buttonEl.style.display =\n",
              "        google.colab.kernel.accessAllowed ? 'block' : 'none';\n",
              "\n",
              "      buttonEl.onclick = () => {\n",
              "        google.colab.notebook.generateWithVariable('original_scale_df');\n",
              "      }\n",
              "      })();\n",
              "    </script>\n",
              "  </div>\n",
              "\n",
              "    </div>\n",
              "  </div>\n"
            ],
            "application/vnd.google.colaboratory.intrinsic+json": {
              "type": "dataframe",
              "variable_name": "original_scale_df",
              "summary": "{\n  \"name\": \"original_scale_df\",\n  \"rows\": 1500,\n  \"fields\": [\n    {\n      \"column\": \"unique_id\",\n      \"properties\": {\n        \"dtype\": \"category\",\n        \"num_unique_values\": 1,\n        \"samples\": [\n          \"slug_flow\"\n        ],\n        \"semantic_type\": \"\",\n        \"description\": \"\"\n      }\n    },\n    {\n      \"column\": \"ds\",\n      \"properties\": {\n        \"dtype\": \"number\",\n        \"std\": 433,\n        \"min\": 1501,\n        \"max\": 3000,\n        \"num_unique_values\": 1500,\n        \"samples\": [\n          2617\n        ],\n        \"semantic_type\": \"\",\n        \"description\": \"\"\n      }\n    },\n    {\n      \"column\": \"y\",\n      \"properties\": {\n        \"dtype\": \"number\",\n        \"std\": 55.42728942899546,\n        \"min\": -81.09550000000002,\n        \"max\": 291.73,\n        \"num_unique_values\": 1492,\n        \"samples\": [\n          22.42892307692305\n        ],\n        \"semantic_type\": \"\",\n        \"description\": \"\"\n      }\n    },\n    {\n      \"column\": \"AutoNHITS\",\n      \"properties\": {\n        \"dtype\": \"number\",\n        \"std\": 55.841951891599656,\n        \"min\": -85.1191335649456,\n        \"max\": 307.187589931,\n        \"num_unique_values\": 1498,\n        \"samples\": [\n          22.466886428559988\n        ],\n        \"semantic_type\": \"\",\n        \"description\": \"\"\n      }\n    }\n  ]\n}"
            }
          },
          "metadata": {},
          "execution_count": 19
        }
      ]
    },
    {
      "cell_type": "code",
      "source": [
        "original_scale_df[['y', 'AutoNHITS']].plot(figsize=(15, 5));"
      ],
      "metadata": {
        "colab": {
          "base_uri": "https://localhost:8080/",
          "height": 445
        },
        "id": "n2DF2jiadtHH",
        "outputId": "150308a1-4e36-4930-a3ad-129e3e2c46ea"
      },
      "execution_count": null,
      "outputs": [
        {
          "output_type": "display_data",
          "data": {
            "text/plain": [
              "<Figure size 1500x500 with 1 Axes>"
            ],
            "image/png": "[encoded data removed]"
          },
          "metadata": {}
        }
      ]
    },
    {
      "cell_type": "code",
      "source": [
        "y_true = original_scale_df['y']\n",
        "y_pred = original_scale_df['AutoNHITS']"
      ],
      "metadata": {
        "id": "x4NFUWCRYvmZ"
      },
      "execution_count": null,
      "outputs": []
    },
    {
      "cell_type": "code",
      "source": [
        "print(f\"RMSE: {math.sqrt(mean_squared_error(y_true, y_pred))}\")\n",
        "print(f\"MAE: {mean_absolute_error(y_true, y_pred)}\")"
      ],
      "metadata": {
        "colab": {
          "base_uri": "https://localhost:8080/"
        },
        "id": "_IqLOVCLY2x4",
        "outputId": "7b8c1281-5b27-45db-ce95-145adf4b180d"
      },
      "execution_count": null,
      "outputs": [
        {
          "output_type": "stream",
          "name": "stdout",
          "text": [
            "RMSE: 2.448190732459234\n",
            "MAE: 1.1568633336300047\n"
          ]
        }
      ]
    },
    {
      "cell_type": "code",
      "source": [],
      "metadata": {
        "id": "ebWgyyT4d9GL"
      },
      "execution_count": null,
      "outputs": []
    }
  ]
}