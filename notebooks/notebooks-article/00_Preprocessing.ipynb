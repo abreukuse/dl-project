{
  "nbformat": 4,
  "nbformat_minor": 0,
  "metadata": {
    "colab": {
      "provenance": []
    },
    "kernelspec": {
      "name": "python3",
      "display_name": "Python 3"
    },
    "language_info": {
      "name": "python"
    }
  },
  "cells": [
    {
      "cell_type": "code",
      "source": [
        "!pip install feature-engine"
      ],
      "metadata": {
        "id": "-ud1hLDyTQUb"
      },
      "execution_count": null,
      "outputs": []
    },
    {
      "cell_type": "code",
      "execution_count": null,
      "metadata": {
        "id": "VACARSW4T-B-"
      },
      "outputs": [],
      "source": [
        "import sys\n",
        "import pandas as pd\n",
        "import numpy as np\n",
        "import joblib\n",
        "import sklearn\n",
        "import feature_engine\n",
        "from sklearn.preprocessing import MinMaxScaler\n",
        "from feature_engine.wrappers import SklearnTransformerWrapper as ColumnTransformer\n",
        "from sklearn import set_config\n",
        "set_config(transform_output=\"pandas\")"
      ]
    },
    {
      "cell_type": "code",
      "source": [
        "# Versões\n",
        "print(\"Versões:\")\n",
        "print('Python -> %s' % sys.version)\n",
        "print('Pandas -> %s' % pd.__version__)\n",
        "print('Numpy -> %s' % np.__version__)\n",
        "print('Sklearn -> %s' % sklearn.__version__)\n",
        "print('Feature-Engine -> %s' % feature_engine.__version__)"
      ],
      "metadata": {
        "colab": {
          "base_uri": "https://localhost:8080/"
        },
        "id": "vVobbNjoWROR",
        "outputId": "81cceeeb-6c8c-4a16-c00a-fcb7ffe669ac"
      },
      "execution_count": null,
      "outputs": [
        {
          "output_type": "stream",
          "name": "stdout",
          "text": [
            "Versões:\n",
            "Python -> 3.11.13 (main, Jun  4 2025, 08:57:29) [GCC 11.4.0]\n",
            "Pandas -> 2.2.2\n",
            "Numpy -> 2.0.2\n",
            "Sklearn -> 1.6.1\n",
            "Feature-Engine -> 1.8.3\n"
          ]
        }
      ]
    },
    {
      "cell_type": "markdown",
      "source": [
        "### Preprocessing"
      ],
      "metadata": {
        "id": "nCg91qBVWves"
      }
    },
    {
      "cell_type": "code",
      "source": [
        "ROOT = \"/content/drive/MyDrive/dl-project\"\n",
        "DATA_FILE = f\"{ROOT}/data/riser_pq_uni.csv\"\n",
        "SEED = 78\n",
        "\n",
        "rename_dict = {\n",
        "    \"Time (sec)\": \"time\",\n",
        "    \"Pressure (bar) @x_{99}=56.9453\": \"pressure_1\",\n",
        "    \"Pressure (bar) @x_{105}=60.4141\": \"pressure_2\",\n",
        "    \"Pressure (bar) @x_{109}=62.7266\": \"pressure_3\",\n",
        "    \"Pressure (bar) @x_{114}=65.6172\": \"pressure_4\",\n",
        "    \"Pressure (bar) @x_{119}=68.5078\": \"pressure_5\",\n",
        "    \"Pressure (bar) @x_{124}=71.3984\": \"pressure_6\",\n",
        "    \"Pressure (bar) @x_{128}=73.7109\": \"pressure_7\",\n",
        "    \"Gas mass rate (kg/sec)\": \"gas_flow_rate\",\n",
        "    \"Liquid mass rate (kg/sec)\": \"liquid_flow_rate\",\n",
        "}\n",
        "\n",
        "TRAINING_STEPS = 1500\n",
        "TIME = ['time']\n",
        "FEATURES = [\n",
        "    'pressure_1',\n",
        "    'pressure_2',\n",
        "    'pressure_3',\n",
        "    'pressure_4',\n",
        "    'pressure_5',\n",
        "    'pressure_6',\n",
        "    'pressure_7'\n",
        "]\n",
        "TARGETS = ['gas_flow_rate','liquid_flow_rate']"
      ],
      "metadata": {
        "id": "nyljZlM4WXz5"
      },
      "execution_count": null,
      "outputs": []
    },
    {
      "cell_type": "code",
      "source": [
        "data = pd.read_csv(DATA_FILE).rename(columns=rename_dict)\n",
        "\n",
        "data_ = (\n",
        "    data[TIME + FEATURES + TARGETS]\n",
        "    .assign(time=np.floor(data['time']).astype(int))\n",
        "    .groupby(['time'])[FEATURES + TARGETS].mean()\n",
        "    .reset_index()\n",
        "    .sort_values(by='time')\n",
        ")\n",
        "\n",
        "data_.head()"
      ],
      "metadata": {
        "colab": {
          "base_uri": "https://localhost:8080/",
          "height": 226
        },
        "id": "HmdYsMF6WxrC",
        "outputId": "f8b2aa92-5876-4d5a-a6cc-bb112892cf47"
      },
      "execution_count": null,
      "outputs": [
        {
          "output_type": "execute_result",
          "data": {
            "text/plain": [
              "   time  pressure_1  pressure_2  pressure_3  pressure_4  pressure_5  \\\n",
              "0     0    2.066200    2.038975    1.849575    1.618100    1.394075   \n",
              "1     1    2.069233    2.047900    1.862067    1.629967    1.404933   \n",
              "2     2    2.064700    2.041100    1.857833    1.625100    1.399833   \n",
              "3     3    2.060525    2.036700    1.856600    1.624475    1.399750   \n",
              "4     4    2.057700    2.034233    1.856233    1.624233    1.399533   \n",
              "\n",
              "   pressure_6  pressure_7  gas_flow_rate  liquid_flow_rate  \n",
              "0    1.179475    1.014875       0.021678         55.518500  \n",
              "1    1.188800    1.025567       0.011846         26.402000  \n",
              "2    1.183967    1.019900       0.026317         51.498667  \n",
              "3    1.184250    1.020350       0.035752         62.201250  \n",
              "4    1.184133    1.020267       0.041210         68.307667  "
            ],
            "text/html": [
              "\n",
              "  <div id=\"df-eae38f6b-3189-48fc-989d-d115f7266a34\" class=\"colab-df-container\">\n",
              "    <div>\n",
              "<style scoped>\n",
              "    .dataframe tbody tr th:only-of-type {\n",
              "        vertical-align: middle;\n",
              "    }\n",
              "\n",
              "    .dataframe tbody tr th {\n",
              "        vertical-align: top;\n",
              "    }\n",
              "\n",
              "    .dataframe thead th {\n",
              "        text-align: right;\n",
              "    }\n",
              "</style>\n",
              "<table border=\"1\" class=\"dataframe\">\n",
              "  <thead>\n",
              "    <tr style=\"text-align: right;\">\n",
              "      <th></th>\n",
              "      <th>time</th>\n",
              "      <th>pressure_1</th>\n",
              "      <th>pressure_2</th>\n",
              "      <th>pressure_3</th>\n",
              "      <th>pressure_4</th>\n",
              "      <th>pressure_5</th>\n",
              "      <th>pressure_6</th>\n",
              "      <th>pressure_7</th>\n",
              "      <th>gas_flow_rate</th>\n",
              "      <th>liquid_flow_rate</th>\n",
              "    </tr>\n",
              "  </thead>\n",
              "  <tbody>\n",
              "    <tr>\n",
              "      <th>0</th>\n",
              "      <td>0</td>\n",
              "      <td>2.066200</td>\n",
              "      <td>2.038975</td>\n",
              "      <td>1.849575</td>\n",
              "      <td>1.618100</td>\n",
              "      <td>1.394075</td>\n",
              "      <td>1.179475</td>\n",
              "      <td>1.014875</td>\n",
              "      <td>0.021678</td>\n",
              "      <td>55.518500</td>\n",
              "    </tr>\n",
              "    <tr>\n",
              "      <th>1</th>\n",
              "      <td>1</td>\n",
              "      <td>2.069233</td>\n",
              "      <td>2.047900</td>\n",
              "      <td>1.862067</td>\n",
              "      <td>1.629967</td>\n",
              "      <td>1.404933</td>\n",
              "      <td>1.188800</td>\n",
              "      <td>1.025567</td>\n",
              "      <td>0.011846</td>\n",
              "      <td>26.402000</td>\n",
              "    </tr>\n",
              "    <tr>\n",
              "      <th>2</th>\n",
              "      <td>2</td>\n",
              "      <td>2.064700</td>\n",
              "      <td>2.041100</td>\n",
              "      <td>1.857833</td>\n",
              "      <td>1.625100</td>\n",
              "      <td>1.399833</td>\n",
              "      <td>1.183967</td>\n",
              "      <td>1.019900</td>\n",
              "      <td>0.026317</td>\n",
              "      <td>51.498667</td>\n",
              "    </tr>\n",
              "    <tr>\n",
              "      <th>3</th>\n",
              "      <td>3</td>\n",
              "      <td>2.060525</td>\n",
              "      <td>2.036700</td>\n",
              "      <td>1.856600</td>\n",
              "      <td>1.624475</td>\n",
              "      <td>1.399750</td>\n",
              "      <td>1.184250</td>\n",
              "      <td>1.020350</td>\n",
              "      <td>0.035752</td>\n",
              "      <td>62.201250</td>\n",
              "    </tr>\n",
              "    <tr>\n",
              "      <th>4</th>\n",
              "      <td>4</td>\n",
              "      <td>2.057700</td>\n",
              "      <td>2.034233</td>\n",
              "      <td>1.856233</td>\n",
              "      <td>1.624233</td>\n",
              "      <td>1.399533</td>\n",
              "      <td>1.184133</td>\n",
              "      <td>1.020267</td>\n",
              "      <td>0.041210</td>\n",
              "      <td>68.307667</td>\n",
              "    </tr>\n",
              "  </tbody>\n",
              "</table>\n",
              "</div>\n",
              "    <div class=\"colab-df-buttons\">\n",
              "\n",
              "  <div class=\"colab-df-container\">\n",
              "    <button class=\"colab-df-convert\" onclick=\"convertToInteractive('df-eae38f6b-3189-48fc-989d-d115f7266a34')\"\n",
              "            title=\"Convert this dataframe to an interactive table.\"\n",
              "            style=\"display:none;\">\n",
              "\n",
              "  <svg xmlns=\"http://www.w3.org/2000/svg\" height=\"24px\" viewBox=\"0 -960 960 960\">\n",
              "    <path d=\"M120-120v-720h720v720H120Zm60-500h600v-160H180v160Zm220 220h160v-160H400v160Zm0 220h160v-160H400v160ZM180-400h160v-160H180v160Zm440 0h160v-160H620v160ZM180-180h160v-160H180v160Zm440 0h160v-160H620v160Z\"/>\n",
              "  </svg>\n",
              "    </button>\n",
              "\n",
              "  <style>\n",
              "    .colab-df-container {\n",
              "      display:flex;\n",
              "      gap: 12px;\n",
              "    }\n",
              "\n",
              "    .colab-df-convert {\n",
              "      background-color: #E8F0FE;\n",
              "      border: none;\n",
              "      border-radius: 50%;\n",
              "      cursor: pointer;\n",
              "      display: none;\n",
              "      fill: #1967D2;\n",
              "      height: 32px;\n",
              "      padding: 0 0 0 0;\n",
              "      width: 32px;\n",
              "    }\n",
              "\n",
              "    .colab-df-convert:hover {\n",
              "      background-color: #E2EBFA;\n",
              "      box-shadow: 0px 1px 2px rgba(60, 64, 67, 0.3), 0px 1px 3px 1px rgba(60, 64, 67, 0.15);\n",
              "      fill: #174EA6;\n",
              "    }\n",
              "\n",
              "    .colab-df-buttons div {\n",
              "      margin-bottom: 4px;\n",
              "    }\n",
              "\n",
              "    [theme=dark] .colab-df-convert {\n",
              "      background-color: #3B4455;\n",
              "      fill: #D2E3FC;\n",
              "    }\n",
              "\n",
              "    [theme=dark] .colab-df-convert:hover {\n",
              "      background-color: #434B5C;\n",
              "      box-shadow: 0px 1px 3px 1px rgba(0, 0, 0, 0.15);\n",
              "      filter: drop-shadow(0px 1px 2px rgba(0, 0, 0, 0.3));\n",
              "      fill: #FFFFFF;\n",
              "    }\n",
              "  </style>\n",
              "\n",
              "    <script>\n",
              "      const buttonEl =\n",
              "        document.querySelector('#df-eae38f6b-3189-48fc-989d-d115f7266a34 button.colab-df-convert');\n",
              "      buttonEl.style.display =\n",
              "        google.colab.kernel.accessAllowed ? 'block' : 'none';\n",
              "\n",
              "      async function convertToInteractive(key) {\n",
              "        const element = document.querySelector('#df-eae38f6b-3189-48fc-989d-d115f7266a34');\n",
              "        const dataTable =\n",
              "          await google.colab.kernel.invokeFunction('convertToInteractive',\n",
              "                                                    [key], {});\n",
              "        if (!dataTable) return;\n",
              "\n",
              "        const docLinkHtml = 'Like what you see? Visit the ' +\n",
              "          '<a target=\"_blank\" href=https://colab.research.google.com/notebooks/data_table.ipynb>data table notebook</a>'\n",
              "          + ' to learn more about interactive tables.';\n",
              "        element.innerHTML = '';\n",
              "        dataTable['output_type'] = 'display_data';\n",
              "        await google.colab.output.renderOutput(dataTable, element);\n",
              "        const docLink = document.createElement('div');\n",
              "        docLink.innerHTML = docLinkHtml;\n",
              "        element.appendChild(docLink);\n",
              "      }\n",
              "    </script>\n",
              "  </div>\n",
              "\n",
              "\n",
              "    <div id=\"df-4a50bbec-ccf9-42b7-9890-2c35eae55624\">\n",
              "      <button class=\"colab-df-quickchart\" onclick=\"quickchart('df-4a50bbec-ccf9-42b7-9890-2c35eae55624')\"\n",
              "                title=\"Suggest charts\"\n",
              "                style=\"display:none;\">\n",
              "\n",
              "<svg xmlns=\"http://www.w3.org/2000/svg\" height=\"24px\"viewBox=\"0 0 24 24\"\n",
              "     width=\"24px\">\n",
              "    <g>\n",
              "        <path d=\"M19 3H5c-1.1 0-2 .9-2 2v14c0 1.1.9 2 2 2h14c1.1 0 2-.9 2-2V5c0-1.1-.9-2-2-2zM9 17H7v-7h2v7zm4 0h-2V7h2v10zm4 0h-2v-4h2v4z\"/>\n",
              "    </g>\n",
              "</svg>\n",
              "      </button>\n",
              "\n",
              "<style>\n",
              "  .colab-df-quickchart {\n",
              "      --bg-color: #E8F0FE;\n",
              "      --fill-color: #1967D2;\n",
              "      --hover-bg-color: #E2EBFA;\n",
              "      --hover-fill-color: #174EA6;\n",
              "      --disabled-fill-color: #AAA;\n",
              "      --disabled-bg-color: #DDD;\n",
              "  }\n",
              "\n",
              "  [theme=dark] .colab-df-quickchart {\n",
              "      --bg-color: #3B4455;\n",
              "      --fill-color: #D2E3FC;\n",
              "      --hover-bg-color: #434B5C;\n",
              "      --hover-fill-color: #FFFFFF;\n",
              "      --disabled-bg-color: #3B4455;\n",
              "      --disabled-fill-color: #666;\n",
              "  }\n",
              "\n",
              "  .colab-df-quickchart {\n",
              "    background-color: var(--bg-color);\n",
              "    border: none;\n",
              "    border-radius: 50%;\n",
              "    cursor: pointer;\n",
              "    display: none;\n",
              "    fill: var(--fill-color);\n",
              "    height: 32px;\n",
              "    padding: 0;\n",
              "    width: 32px;\n",
              "  }\n",
              "\n",
              "  .colab-df-quickchart:hover {\n",
              "    background-color: var(--hover-bg-color);\n",
              "    box-shadow: 0 1px 2px rgba(60, 64, 67, 0.3), 0 1px 3px 1px rgba(60, 64, 67, 0.15);\n",
              "    fill: var(--button-hover-fill-color);\n",
              "  }\n",
              "\n",
              "  .colab-df-quickchart-complete:disabled,\n",
              "  .colab-df-quickchart-complete:disabled:hover {\n",
              "    background-color: var(--disabled-bg-color);\n",
              "    fill: var(--disabled-fill-color);\n",
              "    box-shadow: none;\n",
              "  }\n",
              "\n",
              "  .colab-df-spinner {\n",
              "    border: 2px solid var(--fill-color);\n",
              "    border-color: transparent;\n",
              "    border-bottom-color: var(--fill-color);\n",
              "    animation:\n",
              "      spin 1s steps(1) infinite;\n",
              "  }\n",
              "\n",
              "  @keyframes spin {\n",
              "    0% {\n",
              "      border-color: transparent;\n",
              "      border-bottom-color: var(--fill-color);\n",
              "      border-left-color: var(--fill-color);\n",
              "    }\n",
              "    20% {\n",
              "      border-color: transparent;\n",
              "      border-left-color: var(--fill-color);\n",
              "      border-top-color: var(--fill-color);\n",
              "    }\n",
              "    30% {\n",
              "      border-color: transparent;\n",
              "      border-left-color: var(--fill-color);\n",
              "      border-top-color: var(--fill-color);\n",
              "      border-right-color: var(--fill-color);\n",
              "    }\n",
              "    40% {\n",
              "      border-color: transparent;\n",
              "      border-right-color: var(--fill-color);\n",
              "      border-top-color: var(--fill-color);\n",
              "    }\n",
              "    60% {\n",
              "      border-color: transparent;\n",
              "      border-right-color: var(--fill-color);\n",
              "    }\n",
              "    80% {\n",
              "      border-color: transparent;\n",
              "      border-right-color: var(--fill-color);\n",
              "      border-bottom-color: var(--fill-color);\n",
              "    }\n",
              "    90% {\n",
              "      border-color: transparent;\n",
              "      border-bottom-color: var(--fill-color);\n",
              "    }\n",
              "  }\n",
              "</style>\n",
              "\n",
              "      <script>\n",
              "        async function quickchart(key) {\n",
              "          const quickchartButtonEl =\n",
              "            document.querySelector('#' + key + ' button');\n",
              "          quickchartButtonEl.disabled = true;  // To prevent multiple clicks.\n",
              "          quickchartButtonEl.classList.add('colab-df-spinner');\n",
              "          try {\n",
              "            const charts = await google.colab.kernel.invokeFunction(\n",
              "                'suggestCharts', [key], {});\n",
              "          } catch (error) {\n",
              "            console.error('Error during call to suggestCharts:', error);\n",
              "          }\n",
              "          quickchartButtonEl.classList.remove('colab-df-spinner');\n",
              "          quickchartButtonEl.classList.add('colab-df-quickchart-complete');\n",
              "        }\n",
              "        (() => {\n",
              "          let quickchartButtonEl =\n",
              "            document.querySelector('#df-4a50bbec-ccf9-42b7-9890-2c35eae55624 button');\n",
              "          quickchartButtonEl.style.display =\n",
              "            google.colab.kernel.accessAllowed ? 'block' : 'none';\n",
              "        })();\n",
              "      </script>\n",
              "    </div>\n",
              "\n",
              "    </div>\n",
              "  </div>\n"
            ],
            "application/vnd.google.colaboratory.intrinsic+json": {
              "type": "dataframe",
              "variable_name": "data_",
              "summary": "{\n  \"name\": \"data_\",\n  \"rows\": 3001,\n  \"fields\": [\n    {\n      \"column\": \"time\",\n      \"properties\": {\n        \"dtype\": \"number\",\n        \"std\": 866,\n        \"min\": 0,\n        \"max\": 3000,\n        \"num_unique_values\": 3001,\n        \"samples\": [\n          1801,\n          1190,\n          1817\n        ],\n        \"semantic_type\": \"\",\n        \"description\": \"\"\n      }\n    },\n    {\n      \"column\": \"pressure_1\",\n      \"properties\": {\n        \"dtype\": \"number\",\n        \"std\": 0.14998740822731665,\n        \"min\": 1.6879,\n        \"max\": 2.1787,\n        \"num_unique_values\": 2910,\n        \"samples\": [\n          2.01205,\n          2.08765,\n          2.0277833333333333\n        ],\n        \"semantic_type\": \"\",\n        \"description\": \"\"\n      }\n    },\n    {\n      \"column\": \"pressure_2\",\n      \"properties\": {\n        \"dtype\": \"number\",\n        \"std\": 0.14956467675898283,\n        \"min\": 1.6689666666666667,\n        \"max\": 2.1527,\n        \"num_unique_values\": 2894,\n        \"samples\": [\n          1.9739058823529414,\n          1.8204925925925926,\n          2.09125\n        ],\n        \"semantic_type\": \"\",\n        \"description\": \"\"\n      }\n    },\n    {\n      \"column\": \"pressure_3\",\n      \"properties\": {\n        \"dtype\": \"number\",\n        \"std\": 0.14438175350210805,\n        \"min\": 1.503325,\n        \"max\": 1.9496,\n        \"num_unique_values\": 2847,\n        \"samples\": [\n          1.6619153846153847,\n          1.77466875,\n          1.7577052631578947\n        ],\n        \"semantic_type\": \"\",\n        \"description\": \"\"\n      }\n    },\n    {\n      \"column\": \"pressure_4\",\n      \"properties\": {\n        \"dtype\": \"number\",\n        \"std\": 0.1303270363005577,\n        \"min\": 1.2982666666666667,\n        \"max\": 1.6984000000000001,\n        \"num_unique_values\": 2829,\n        \"samples\": [\n          1.352108,\n          1.383511111111111,\n          1.674\n        ],\n        \"semantic_type\": \"\",\n        \"description\": \"\"\n      }\n    },\n    {\n      \"column\": \"pressure_5\",\n      \"properties\": {\n        \"dtype\": \"number\",\n        \"std\": 0.11042111307996952,\n        \"min\": 1.1080272727272729,\n        \"max\": 1.4525,\n        \"num_unique_values\": 2781,\n        \"samples\": [\n          1.2275653846153847,\n          1.2999538461538462,\n          1.2413\n        ],\n        \"semantic_type\": \"\",\n        \"description\": \"\"\n      }\n    },\n    {\n      \"column\": \"pressure_6\",\n      \"properties\": {\n        \"dtype\": \"number\",\n        \"std\": 0.07528447677387078,\n        \"min\": 1.0004723076923077,\n        \"max\": 1.2131666666666667,\n        \"num_unique_values\": 2711,\n        \"samples\": [\n          1.0023192592592591,\n          1.0070703703703703,\n          1.0071818181818182\n        ],\n        \"semantic_type\": \"\",\n        \"description\": \"\"\n      }\n    },\n    {\n      \"column\": \"pressure_7\",\n      \"properties\": {\n        \"dtype\": \"number\",\n        \"std\": 0.009248118922286093,\n        \"min\": 0.9952525,\n        \"max\": 1.0293333333333334,\n        \"num_unique_values\": 2152,\n        \"samples\": [\n          1.0003413333333333,\n          0.9999022222222222,\n          0.9999955555555556\n        ],\n        \"semantic_type\": \"\",\n        \"description\": \"\"\n      }\n    },\n    {\n      \"column\": \"gas_flow_rate\",\n      \"properties\": {\n        \"dtype\": \"number\",\n        \"std\": 0.07258590659698948,\n        \"min\": -0.0891945,\n        \"max\": 0.436948,\n        \"num_unique_values\": 2999,\n        \"samples\": [\n          0.005105922222222222,\n          0.00527475,\n          0.0303705\n        ],\n        \"semantic_type\": \"\",\n        \"description\": \"\"\n      }\n    },\n    {\n      \"column\": \"liquid_flow_rate\",\n      \"properties\": {\n        \"dtype\": \"number\",\n        \"std\": 53.41492469553168,\n        \"min\": -84.556,\n        \"max\": 298.878,\n        \"num_unique_values\": 2986,\n        \"samples\": [\n          20.63675,\n          22.244346153846152,\n          22.02321052631579\n        ],\n        \"semantic_type\": \"\",\n        \"description\": \"\"\n      }\n    }\n  ]\n}"
            }
          },
          "metadata": {},
          "execution_count": 9
        }
      ]
    },
    {
      "cell_type": "code",
      "source": [
        "train_data = data_.loc[data_['time'] <= TRAINING_STEPS, :]\n",
        "test_data = data_.loc[data_['time'] > TRAINING_STEPS, :]"
      ],
      "metadata": {
        "id": "nIFEETaHW1Gq"
      },
      "execution_count": null,
      "outputs": []
    },
    {
      "cell_type": "code",
      "source": [
        "scaler = ColumnTransformer(\n",
        "    transformer=MinMaxScaler(),\n",
        "    variables=FEATURES + TARGETS\n",
        ")\n",
        "\n",
        "train_data_scaled = scaler.fit_transform(train_data)\n",
        "test_data_scaled = scaler.transform(test_data)"
      ],
      "metadata": {
        "id": "3uxheBdlXBeR"
      },
      "execution_count": null,
      "outputs": []
    },
    {
      "cell_type": "code",
      "source": [
        "data_['liquid_flow_rate'].plot(\n",
        "    title=\"Liquid flow rate\",\n",
        "    figsize=(12, 3)\n",
        ");"
      ],
      "metadata": {
        "colab": {
          "base_uri": "https://localhost:8080/",
          "height": 266
        },
        "id": "GSyp-uvQf_Mq",
        "outputId": "e14ccb0c-ac66-4d66-8439-c473a5f8db01"
      },
      "execution_count": null,
      "outputs": [
        {
          "output_type": "display_data",
          "data": {
            "text/plain": [
              "<Figure size 1200x300 with 1 Axes>"
            ],
            "image/png": "[encoded data removed]"
          },
          "metadata": {}
        }
      ]
    },
    {
      "cell_type": "code",
      "source": [
        "train_data_scaled.to_csv(f\"{ROOT}/data/train_data_scaled.csv\", index=False)\n",
        "test_data_scaled.to_csv(f\"{ROOT}/data/test_data_scaled.csv\", index=False)"
      ],
      "metadata": {
        "id": "j2LfK1IwYWcu"
      },
      "execution_count": null,
      "outputs": []
    },
    {
      "cell_type": "code",
      "source": [
        "joblib.dump(scaler, f\"{ROOT}/data/scaler.joblib\")"
      ],
      "metadata": {
        "colab": {
          "base_uri": "https://localhost:8080/"
        },
        "id": "Oyozo6XlhgxL",
        "outputId": "37b0ff78-43bc-4b3f-be45-f6d0e2ea8e02"
      },
      "execution_count": null,
      "outputs": [
        {
          "output_type": "execute_result",
          "data": {
            "text/plain": [
              "['/content/drive/MyDrive/dl-project/data/scaler.joblib']"
            ]
          },
          "metadata": {},
          "execution_count": 15
        }
      ]
    }
  ]
}